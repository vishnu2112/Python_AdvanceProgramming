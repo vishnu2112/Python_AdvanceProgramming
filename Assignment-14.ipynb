{
 "cells": [
  {
   "cell_type": "markdown",
   "metadata": {},
   "source": [
    "# Q1"
   ]
  },
  {
   "cell_type": "code",
   "execution_count": null,
   "metadata": {},
   "outputs": [],
   "source": [
    "Given a list of numbers, create a function that removes 25% from every number in the list except the smallest number, and adds the total amount removed to the smallest number.\n",
    "\n",
    "Examples\n",
    "\n",
    "show_the_love([4, 1, 4]) ➞ [3, 3, 3]\n",
    "\n",
    "show_the_love([16, 10, 8]) ➞ [12, 7.5, 14.5]\n",
    "\n",
    "show_the_love([2, 100]) ➞ [27, 75]\n"
   ]
  },
  {
   "cell_type": "code",
   "execution_count": 11,
   "metadata": {},
   "outputs": [
    {
     "name": "stdout",
     "output_type": "stream",
     "text": [
      "[12.0, 7.5, 14.5]\n"
     ]
    }
   ],
   "source": [
    "l=[16, 10, 8]\n",
    "def show_the_love(l):\n",
    "    min=l[0]\n",
    "    for i in range(1,len(l)):\n",
    "        if l[i]<min:\n",
    "            min=l[i]\n",
    "    rem=0\n",
    "    for i in range(0,len(l)):\n",
    "        if l[i]!=min:\n",
    "            rem+=l[i]*0.25\n",
    "            l[i]=l[i]*0.75\n",
    "    ind=l.index(min)\n",
    "    l[ind]+=rem\n",
    "    print(l)\n",
    "show_the_love(l)\n",
    "            \n",
    "            "
   ]
  },
  {
   "cell_type": "markdown",
   "metadata": {},
   "source": [
    "# Q2"
   ]
  },
  {
   "cell_type": "code",
   "execution_count": null,
   "metadata": {},
   "outputs": [],
   "source": [
    "Create a function that takes in two words as input and returns a list of three elements, in the following order:\n",
    "\n",
    "   1.Shared letters between two words.\n",
    "   2.Letters unique to word 1.\n",
    "   3.Letters unique to word 2.\n",
    "\n",
    "Each element should have unique letters, and have each letter be alphabetically sorted.\n",
    "Examples\n",
    "\n",
    "letters(\"sharp\", \"soap\") ➞ [\"aps\", \"hr\", \"o\"]\n",
    "\n",
    "letters(\"board\", \"bored\") ➞ [\"bdor\", \"a\", \"e\"]\n",
    "\n",
    "letters(\"happiness\", \"envelope\") ➞ [\"enp\", \"ahis\", \"lov\"]\n",
    "\n",
    "letters(\"kerfuffle\", \"fluffy\") ➞ [\"flu\", \"ekr\", \"y\"]\n",
    "# Even with multiple matching letters (e.g. 3 f's), there should \n",
    "# only exist a single \"f\" in your first element.\n",
    "\n",
    "letters(\"match\", \"ham\") ➞ [\"ahm\", \"ct\", \"\"]\n",
    "# \"ham\" does not contain any letters that are not found already \n",
    "# in \"match\".\n"
   ]
  },
  {
   "cell_type": "code",
   "execution_count": 20,
   "metadata": {},
   "outputs": [
    {
     "name": "stdout",
     "output_type": "stream",
     "text": [
      "Enter string1: happiness\n",
      "Enter string2: envelope\n",
      "['enp', 'ahis', 'lov']\n"
     ]
    }
   ],
   "source": [
    "n1=input(\"Enter string1: \")\n",
    "n2=input(\"Enter string2: \")\n",
    "\n",
    "def letters(n1,n2):\n",
    "    s1=set(n1)\n",
    "    l1=list(s1)\n",
    "    l1.sort()\n",
    "    \n",
    "    s2=set(n2)\n",
    "    l2=list(s2)\n",
    "    l2.sort()\n",
    "    \n",
    "    unique=[]\n",
    "    ans=[]\n",
    "    for i in l1:\n",
    "        if i in l2:\n",
    "            unique.append(i)\n",
    "    a=''.join(unique)\n",
    "    \n",
    "    unique_l1=[]\n",
    "    for i in l1:\n",
    "        if i not in a:\n",
    "            unique_l1.append(i)\n",
    "    b=''.join(unique_l1)\n",
    "    \n",
    "    unique_l2=[]\n",
    "    for i in l2:\n",
    "        if i not in a:\n",
    "            unique_l2.append(i)\n",
    "    c=''.join(unique_l2)\n",
    "    \n",
    "    ans.append(a)\n",
    "    ans.append(b)\n",
    "    ans.append(c)\n",
    "    print(ans)\n",
    "letters(n1,n2)\n",
    "    "
   ]
  },
  {
   "cell_type": "markdown",
   "metadata": {},
   "source": [
    "# Q3"
   ]
  },
  {
   "cell_type": "code",
   "execution_count": null,
   "metadata": {},
   "outputs": [],
   "source": [
    " Write a function that pairs the first number in an array with the last, the second number with the second to last, etc.\n",
    "\n",
    "Examples\n",
    "\n",
    "pairs([1, 2, 3, 4, 5, 6, 7]) ➞ [[1, 7], [2, 6], [3, 5], [4, 4]]\n",
    "pairs([1, 2, 3, 4, 5, 6]) ➞ [[1, 6], [2, 5], [3, 4]]\n",
    "\n",
    "pairs([5, 9, 8, 1, 2]) ➞ [[5, 2], [9, 1], [8, 8]]\n",
    "\n",
    "pairs([]) ➞ []\n"
   ]
  },
  {
   "cell_type": "code",
   "execution_count": 22,
   "metadata": {},
   "outputs": [
    {
     "name": "stdout",
     "output_type": "stream",
     "text": [
      "[[1, 7], [2, 6], [3, 5], [4, 4]]\n"
     ]
    }
   ],
   "source": [
    "n=[1, 2, 3, 4, 5, 6, 7]\n",
    "def pairs(n):\n",
    "    size=len(n)\n",
    "    ans=[]\n",
    "    last=int(size/2)\n",
    "    for i in range(0,last):\n",
    "        l=[]\n",
    "        l.append(n[i])\n",
    "        l.append(n[size-i-1])\n",
    "        ans.append(l)\n",
    "    if size%2==1:\n",
    "        ans.append([n[last],n[last]])\n",
    "    print(ans)\n",
    "pairs(n)\n",
    "        "
   ]
  },
  {
   "cell_type": "markdown",
   "metadata": {},
   "source": [
    "# Q4"
   ]
  },
  {
   "cell_type": "code",
   "execution_count": null,
   "metadata": {},
   "outputs": [],
   "source": [
    "Write a function that adds two numbers. The catch, however, is that the numbers will be strings.\n",
    "\n",
    "Examples\n",
    "\n",
    "add_str_nums(\"4\", \"5\") ➞ \"9\"\n",
    "\n",
    "add_str_nums(\"abcdefg\", \"3\") ➞ \"-1\"\n",
    "\n",
    "add_str_nums(\"1\", \"\") ➞ \"1\"\n",
    "\n",
    "add_str_nums(\"1874682736267235927359283579235789257\", \"32652983572985729\") ➞ \"1874682736267235927391936562808774986\"\n"
   ]
  },
  {
   "cell_type": "code",
   "execution_count": 27,
   "metadata": {},
   "outputs": [
    {
     "name": "stdout",
     "output_type": "stream",
     "text": [
      "Enter string1: 1874682736267235927359283579235789257\n",
      "Enter string2: 32652983572985729\n",
      "1874682736267235927391936562808774986\n"
     ]
    }
   ],
   "source": [
    "a=input(\"Enter string1: \")\n",
    "b=input(\"Enter string2: \")\n",
    "def add_str_nums(a,b):\n",
    "    try:\n",
    "        n1=int(a)\n",
    "        n2=int(b)\n",
    "        s=str(n1+n2)\n",
    "        print(s)\n",
    "    except:\n",
    "        flag=0\n",
    "        print(\"-1\")\n",
    "add_str_nums(a,b)"
   ]
  },
  {
   "cell_type": "markdown",
   "metadata": {},
   "source": [
    "# Q5"
   ]
  },
  {
   "cell_type": "code",
   "execution_count": null,
   "metadata": {},
   "outputs": [],
   "source": [
    "lPaeesh le pemu mnxit ehess rtnisg! Oh, sorry, that was supposed to say: Please help me unmix these strings!\n",
    "\n",
    "Somehow my strings have all become mixed up; every pair of characters has been swapped. Help me undo this so I can understand my strings again.\n",
    "\n",
    "Examples\n",
    "\n",
    "unmix(\"123456\") ➞ \"214365\"\n",
    "\n",
    "unmix(\"hTsii  s aimex dpus rtni.g\") ➞ \"This is a mixed up string.\"\n",
    "\n",
    "unmix(\"badce\") ➞ \"abcde\"\n"
   ]
  },
  {
   "cell_type": "code",
   "execution_count": 41,
   "metadata": {},
   "outputs": [
    {
     "name": "stdout",
     "output_type": "stream",
     "text": [
      "Enter a string: hTsii  s aimex dpus rtni.g\n",
      "This is a mixed up string.\n"
     ]
    }
   ],
   "source": [
    "n=input(\"Enter a string: \")\n",
    "def unmix(n):\n",
    "    l=list(n)\n",
    "    i=0\n",
    "    size=len(l)\n",
    "    max=size-1\n",
    "    while i<max:\n",
    "        l[i],l[i+1]=l[i+1],l[i]\n",
    "        i+=2\n",
    "    print(''.join(l))\n",
    "    \n",
    "unmix(n)       \n",
    "            \n",
    "        "
   ]
  }
 ],
 "metadata": {
  "kernelspec": {
   "display_name": "Python 3",
   "language": "python",
   "name": "python3"
  },
  "language_info": {
   "codemirror_mode": {
    "name": "ipython",
    "version": 3
   },
   "file_extension": ".py",
   "mimetype": "text/x-python",
   "name": "python",
   "nbconvert_exporter": "python",
   "pygments_lexer": "ipython3",
   "version": "3.8.3"
  },
  "toc": {
   "base_numbering": 1,
   "nav_menu": {},
   "number_sections": true,
   "sideBar": true,
   "skip_h1_title": false,
   "title_cell": "Table of Contents",
   "title_sidebar": "Contents",
   "toc_cell": false,
   "toc_position": {},
   "toc_section_display": true,
   "toc_window_display": false
  }
 },
 "nbformat": 4,
 "nbformat_minor": 4
}
