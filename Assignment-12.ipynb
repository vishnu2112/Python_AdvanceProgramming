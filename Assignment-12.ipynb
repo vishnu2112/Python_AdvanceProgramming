{
 "cells": [
  {
   "cell_type": "markdown",
   "metadata": {},
   "source": [
    "# Q1"
   ]
  },
  {
   "cell_type": "code",
   "execution_count": null,
   "metadata": {},
   "outputs": [],
   "source": [
    "For this challenge, forget how to add two numbers together. The best explanation on what to do for this function is this meme:\n",
    "Examples\n",
    "\n",
    "meme_sum(26, 39) ➞ 515\n",
    "# 2+3 = 5, 6+9 = 15\n",
    "# 26 + 39 = 515\n",
    "\n",
    "meme_sum(122, 81) ➞ 1103\n",
    "# 1+0 = 1, 2+8 = 10, 2+1 = 3\n",
    "# 122 + 81 = 1103\n",
    "\n",
    "meme_sum(1222, 30277) ➞ 31499\n"
   ]
  },
  {
   "cell_type": "code",
   "execution_count": 11,
   "metadata": {},
   "outputs": [
    {
     "name": "stdout",
     "output_type": "stream",
     "text": [
      "Enter a number: 1222\n",
      "Enter a number: 30277\n",
      "31499\n"
     ]
    }
   ],
   "source": [
    "n1=int(input(\"Enter a number: \"))\n",
    "n2=int(input(\"Enter a number: \"))\n",
    "\n",
    "def meme_sum(n1,n2):\n",
    "    s1=str(n1)\n",
    "    s2=str(n2)\n",
    "    l1=len(s1)\n",
    "    l2=len(s2)\n",
    "    list_s1=list(s1)\n",
    "    list_s1.reverse()\n",
    "    list_s2=list(s2)\n",
    "    list_s2.reverse()\n",
    "    if l1<l2:\n",
    "        min_len=l1\n",
    "        max=list_s2\n",
    "    elif l1==l2:\n",
    "        min_len=l1\n",
    "    else:\n",
    "        min_len=l2\n",
    "        max=list_s1\n",
    "    list_sum=[]\n",
    "    for i in range(0,min_len):\n",
    "        k=str(int(list_s1[i])+int(list_s2[i]))\n",
    "        list_sum.append(k)\n",
    "    if(l1!=l2):\n",
    "        while min_len<len(max):\n",
    "            list_sum.append(str(int(max[min_len])))\n",
    "            min_len+=1\n",
    "    s=n1+n2\n",
    "    list_sum.reverse()\n",
    "    sum_digits=int(''.join(list_sum))\n",
    "    print(sum_digits)\n",
    "meme_sum(n1,n2)\n",
    "    \n",
    "        \n",
    "        \n",
    "     "
   ]
  },
  {
   "cell_type": "markdown",
   "metadata": {},
   "source": [
    "# Q2"
   ]
  },
  {
   "cell_type": "code",
   "execution_count": null,
   "metadata": {},
   "outputs": [],
   "source": [
    "Given an integer, create a function that returns the next prime. If the number is prime, return the number itself.\n",
    "\n",
    "Examples\n",
    "next_prime(12) ➞ 13\n",
    "\n",
    "next_prime(24) ➞ 29\n",
    "\n",
    "next_prime(11) ➞ 11\n",
    "# 11 is a prime, so we return the number itself.\n"
   ]
  },
  {
   "cell_type": "code",
   "execution_count": 18,
   "metadata": {},
   "outputs": [
    {
     "name": "stdout",
     "output_type": "stream",
     "text": [
      "Enter a number: 24\n",
      "29\n"
     ]
    }
   ],
   "source": [
    "n=int(input(\"Enter a number: \"))\n",
    "def is_prime(k):\n",
    "    flag=1\n",
    "    if k==1:\n",
    "        flag=0\n",
    "    else:\n",
    "        import math\n",
    "        for i in range(2,int(math.sqrt(k))+1):\n",
    "            if k%i==0:\n",
    "                flag=0\n",
    "                break\n",
    "    if flag==1:\n",
    "        return 1\n",
    "    else:\n",
    "        return 0\n",
    "    \n",
    "def next_prime(n):\n",
    "    if(is_prime(n)):\n",
    "        print(n)\n",
    "    else:\n",
    "        while n:\n",
    "            n+=1\n",
    "            if(is_prime(n)):\n",
    "                print(n)\n",
    "                break\n",
    "next_prime(n)"
   ]
  },
  {
   "cell_type": "markdown",
   "metadata": {},
   "source": [
    "# Q3"
   ]
  },
  {
   "cell_type": "code",
   "execution_count": null,
   "metadata": {},
   "outputs": [],
   "source": [
    " If a person traveled up a hill for 18mins at 20mph and then traveled back down the same path at 60mph then their average speed traveled was 30mph.\n",
    "\n",
    "Write a function that returns the average speed traveled given an uphill time, uphill rate and a downhill rate. Uphill time is given in minutes. Return the rate as an integer (mph). No rounding is necessary.\n",
    "\n",
    "Examples\n",
    "\n",
    "ave_spd(18, 20, 60) ➞ 30\n",
    "\n",
    "ave_spd(30, 10, 30) ➞ 15\n",
    "\n",
    "ave_spd(30, 8, 24) ➞ 12\n"
   ]
  },
  {
   "cell_type": "code",
   "execution_count": 20,
   "metadata": {},
   "outputs": [
    {
     "name": "stdout",
     "output_type": "stream",
     "text": [
      "Enter value in minutes: 18\n",
      "Enter speed in mph units: 20\n",
      "Enter speed in mph units:60\n",
      "30.0\n"
     ]
    }
   ],
   "source": [
    "uphill_time=float(input(\"Enter value in minutes: \"))\n",
    "uphill_speed=float(input(\"Enter speed in mph units: \"))\n",
    "downhill_speed=float(input(\"Enter speed in mph units:\"))\n",
    "\n",
    "def average_speed(ut,us,ds):\n",
    "    d=us*ut\n",
    "    dt=d/ds\n",
    "    avg_speed=(2*d)/(ut+dt)\n",
    "    print(avg_speed)\n",
    "average_speed(uphill_time,uphill_speed,downhill_speed)"
   ]
  },
  {
   "cell_type": "markdown",
   "metadata": {},
   "source": [
    "# Q4"
   ]
  },
  {
   "cell_type": "code",
   "execution_count": null,
   "metadata": {},
   "outputs": [],
   "source": [
    "The Kempner Function, applied to a composite number, permits to find the smallest integer greater than zero whose factorial is exactly divided by the number.\n",
    "\n",
    "kempner(6) ➞ 3\n",
    "\n",
    "1! = 1 % 6 > 0\n",
    "2! = 2 % 6 > 0\n",
    "3! = 6 % 6 === 0\n",
    "\n",
    "kempner(10) ➞ 5\n",
    "\n",
    "1! = 1 % 10 > 0\n",
    "2! = 2 % 10 > 0\n",
    "3! = 6 % 10 > 0\n",
    "4! = 24 % 10 > 0\n",
    "5! = 120 % 10 === 0\n",
    "\n",
    "A Kempner Function applied to a prime will always return the prime itself.\n",
    "\n",
    "kempner(2) ➞ 2\n",
    "kempner(5) ➞ 5\n",
    "\n",
    "Given an integer n, implement a Kempner Function.\n",
    "Examples\n",
    "\n",
    "kempner(6) ➞ 3\n",
    "\n",
    "kempner(10) ➞ 5\n",
    "\n",
    "kempner(2) ➞ 2\n"
   ]
  },
  {
   "cell_type": "code",
   "execution_count": 21,
   "metadata": {},
   "outputs": [
    {
     "name": "stdout",
     "output_type": "stream",
     "text": [
      "Enter a composite number: 10\n"
     ]
    },
    {
     "data": {
      "text/plain": [
       "5"
      ]
     },
     "execution_count": 21,
     "metadata": {},
     "output_type": "execute_result"
    }
   ],
   "source": [
    "n=int(input(\"Enter a composite number: \"))\n",
    "def fact(k):\n",
    "    if k==1:\n",
    "        return 1\n",
    "    else:\n",
    "        return k*fact(k-1)\n",
    "def kempner(n):\n",
    "    i=1\n",
    "    while i:\n",
    "        f=fact(i)\n",
    "        if f%n==0:\n",
    "            return i\n",
    "        else:\n",
    "            i+=1\n",
    "kempner(n)"
   ]
  },
  {
   "cell_type": "markdown",
   "metadata": {},
   "source": [
    "# Q5"
   ]
  },
  {
   "cell_type": "code",
   "execution_count": null,
   "metadata": {},
   "outputs": [],
   "source": [
    "You work in a factory, and your job is to take items from a conveyor belt and pack them into boxes. Each box can hold a maximum of 10 kgs. Given a list containing the weight (in kg) of each item, how many boxes would you need to pack all of the items?\n",
    "\n",
    "Example\n",
    "\n",
    "boxes([2, 1, 2, 5, 4, 3, 6, 1, 1, 9, 3, 2]) ➞ 5\n",
    "\n",
    "# Box 1 = [2, 1, 2, 5] (10kg)\n",
    "# Box 2 = [4, 3] (7kg)\n",
    "# Box 3 = [6, 1, 1] (8kg)\n",
    "# Box 4 = [9] (9kg)\n",
    "# Box 5 = [3, 2] (5kg)\n"
   ]
  },
  {
   "cell_type": "code",
   "execution_count": 26,
   "metadata": {},
   "outputs": [
    {
     "name": "stdout",
     "output_type": "stream",
     "text": [
      "5\n"
     ]
    }
   ],
   "source": [
    "l=[2, 1, 2, 5, 4, 3, 6, 1, 1, 9, 3, 2]\n",
    "def boxes(l):\n",
    "    count=0\n",
    "    sum=0\n",
    "    for i in range(0,len(l)):\n",
    "        sum=sum+l[i]\n",
    "        if sum==10:\n",
    "            count+=1\n",
    "            sum=0\n",
    "        elif sum>10:\n",
    "            count+=1\n",
    "            sum=l[i]\n",
    "        else:\n",
    "            pass\n",
    "    if sum>0:\n",
    "        count+=1\n",
    "    print(count)\n",
    "boxes(l)"
   ]
  }
 ],
 "metadata": {
  "kernelspec": {
   "display_name": "Python 3",
   "language": "python",
   "name": "python3"
  },
  "language_info": {
   "codemirror_mode": {
    "name": "ipython",
    "version": 3
   },
   "file_extension": ".py",
   "mimetype": "text/x-python",
   "name": "python",
   "nbconvert_exporter": "python",
   "pygments_lexer": "ipython3",
   "version": "3.8.3"
  },
  "toc": {
   "base_numbering": 1,
   "nav_menu": {},
   "number_sections": true,
   "sideBar": true,
   "skip_h1_title": false,
   "title_cell": "Table of Contents",
   "title_sidebar": "Contents",
   "toc_cell": false,
   "toc_position": {},
   "toc_section_display": true,
   "toc_window_display": false
  }
 },
 "nbformat": 4,
 "nbformat_minor": 4
}
