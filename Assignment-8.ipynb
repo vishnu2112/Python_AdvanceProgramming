{
 "cells": [
  {
   "cell_type": "markdown",
   "metadata": {},
   "source": [
    "# Q1"
   ]
  },
  {
   "cell_type": "code",
   "execution_count": null,
   "metadata": {},
   "outputs": [],
   "source": [
    "Given a sentence as txt, return True if any two adjacent words have this property: One word ends with a vowel, while the word immediately after begins with a vowel (a e i o u).\n",
    "\n",
    "Examples\n",
    "\n",
    "vowel_links(\"a very large appliance\") ➞ True\n",
    "\n",
    "vowel_links(\"go to edabit\") ➞ True\n",
    "\n",
    "vowel_links(\"an open fire\") ➞ False\n",
    "\n",
    "vowel_links(\"a sudden applause\") ➞ False\n"
   ]
  },
  {
   "cell_type": "code",
   "execution_count": 4,
   "metadata": {},
   "outputs": [
    {
     "name": "stdout",
     "output_type": "stream",
     "text": [
      "Enter a sentence: a sudden applause\n"
     ]
    },
    {
     "data": {
      "text/plain": [
       "False"
      ]
     },
     "execution_count": 4,
     "metadata": {},
     "output_type": "execute_result"
    }
   ],
   "source": [
    "n=input(\"Enter a sentence: \")\n",
    "def vowel_links(n):\n",
    "    l=n.split()\n",
    "    vow=['a','e','i','o','u']\n",
    "    for i in range(0,len(l)-1):\n",
    "        k=l[i]\n",
    "        p=l[i+1]\n",
    "        if k[-1] in vow:\n",
    "            if p[0] in vow:\n",
    "                return True\n",
    "    return False\n",
    "            \n",
    "vowel_links(n)"
   ]
  },
  {
   "cell_type": "markdown",
   "metadata": {},
   "source": [
    "# Q2"
   ]
  },
  {
   "cell_type": "code",
   "execution_count": null,
   "metadata": {},
   "outputs": [],
   "source": [
    "You are given three inputs: a string, one letter, and a second letter.\n",
    "\n",
    "Write a function that returns True if every instance of the first letter occurs before every instance of the second letter.\n",
    "\n",
    "Examples\n",
    "\n",
    "first_before_second(\"a rabbit jumps joyfully\", \"a\", \"j\") ➞ True\n",
    "# Every instance of \"a\" occurs before every instance of \"j\".\n",
    "\n",
    "first_before_second(\"knaves knew about waterfalls\", \"k\", \"w\") ➞  True\n",
    "\n",
    "first_before_second(\"happy birthday\", \"a\", \"y\") ➞ False\n",
    "# The \"a\" in \"birthday\" occurs after the \"y\" in \"happy\".\n",
    "\n",
    "first_before_second(\"precarious kangaroos\", \"k\", \"a\") ➞ False\n",
    "\n"
   ]
  },
  {
   "cell_type": "code",
   "execution_count": 5,
   "metadata": {},
   "outputs": [
    {
     "name": "stdout",
     "output_type": "stream",
     "text": [
      "Enter a sentence: happy birthday\n",
      "Enter a first letter: a\n",
      "Enter second letter: y\n"
     ]
    },
    {
     "data": {
      "text/plain": [
       "False"
      ]
     },
     "execution_count": 5,
     "metadata": {},
     "output_type": "execute_result"
    }
   ],
   "source": [
    "n=input(\"Enter a sentence: \")\n",
    "ch1 = input(\"Enter a first letter: \")\n",
    "ch2= input(\"Enter second letter: \")\n",
    "\n",
    "def first_before_second(n,ch1,ch2):\n",
    "    first=[]\n",
    "    second=[]\n",
    "    for i in range(0,len(n)):\n",
    "        if n[i]==ch1:\n",
    "            first.append(i)\n",
    "        elif n[i]==ch2:\n",
    "            second.append(i)\n",
    "        else:\n",
    "            pass\n",
    "    # every instance of the first letter occurs before every instance of the second letter\n",
    "    if first[-1]<second[0]:\n",
    "        return True\n",
    "    else:\n",
    "        return False\n",
    "first_before_second(n,ch1,ch2)\n",
    "   "
   ]
  },
  {
   "cell_type": "markdown",
   "metadata": {},
   "source": [
    "# Q3"
   ]
  },
  {
   "cell_type": "code",
   "execution_count": null,
   "metadata": {},
   "outputs": [],
   "source": [
    "Create a function that returns the characters from a list or string r on odd or even positions, depending on the specifier s. The specifier will be \"odd\" for items on odd positions (1, 3, 5, ...) and \"even\" for items on even positions (2, 4, 6, ...).\n",
    "\n",
    "Examples\n",
    "\n",
    "char_at_pos([2, 4, 6, 8, 10], \"even\") ➞ [4, 8]\n",
    "# 4 & 8 occupy the 2nd & 4th positions\n",
    "\n",
    "char_at_pos(\"EDABIT\", \"odd\") ➞ \"EAI\"\n",
    "# \"E\", \"A\" and \"I\" occupy the 1st, 3rd and 5th positions\n",
    "\n",
    "char_at_pos([\"A\", \"R\", \"B\", \"I\", \"T\", \"R\", \"A\", \"R\", \"I\", \"L\", \"Y\"], \"odd\") ➞ [\"A\", \"B\", \"T\", \"A\", \"I\", \"Y\"]\n"
   ]
  },
  {
   "cell_type": "code",
   "execution_count": 8,
   "metadata": {},
   "outputs": [
    {
     "name": "stdout",
     "output_type": "stream",
     "text": [
      "Enter odd or even: odd\n",
      "['A', 'B', 'T', 'A', 'I', 'Y']\n"
     ]
    }
   ],
   "source": [
    "l=[\"A\", \"R\", \"B\", \"I\", \"T\", \"R\", \"A\", \"R\", \"I\", \"L\", \"Y\"]\n",
    "s=input(\"Enter odd or even: \")\n",
    "def char_at_pos(l,s):\n",
    "    new_l=[]\n",
    "    for i in range(0,len(l)):\n",
    "        if s=='odd':\n",
    "            if i%2==0:\n",
    "                new_l.append(l[i])\n",
    "        else:\n",
    "            if i%2==1:\n",
    "                new_l.append(l[i])\n",
    "    print(new_l)\n",
    "char_at_pos(l,s)\n",
    "                "
   ]
  },
  {
   "cell_type": "markdown",
   "metadata": {},
   "source": [
    "# Q4"
   ]
  },
  {
   "cell_type": "code",
   "execution_count": null,
   "metadata": {},
   "outputs": [],
   "source": [
    "Write a function that returns the greatest common divisor of all list elements. If the greatest common divisor is 1, return 1.\n",
    "\n",
    "Examples\n",
    "\n",
    "GCD([10, 20, 40]) ➞ 10\n",
    "\n",
    "GCD([1, 2, 3, 100]) ➞ 1\n",
    "\n",
    "GCD([1024, 192, 2048, 512]) ➞ 64\n"
   ]
  },
  {
   "cell_type": "code",
   "execution_count": 9,
   "metadata": {},
   "outputs": [
    {
     "name": "stdout",
     "output_type": "stream",
     "text": [
      "64\n"
     ]
    }
   ],
   "source": [
    "l=[1024, 192, 2048, 512]\n",
    "def find_gcd(x,y):\n",
    "    if x<y:\n",
    "        temp1=x\n",
    "        x=y\n",
    "        y=temp1\n",
    "    while y:\n",
    "        temp2=y\n",
    "        y=x%y\n",
    "        x=temp2\n",
    "    return x\n",
    "\n",
    "f=l[0]\n",
    "s=l[1]\n",
    "gcd=find_gcd(f,s)\n",
    "for i in range(2,len(l)):\n",
    "    gcd = find_gcd(gcd, l[i])\n",
    "print(gcd)"
   ]
  },
  {
   "cell_type": "markdown",
   "metadata": {},
   "source": [
    "# Q5"
   ]
  },
  {
   "cell_type": "code",
   "execution_count": null,
   "metadata": {},
   "outputs": [],
   "source": [
    "A number/string is a palindrome if the digits/characters are the same when read both forward and backward. Examples include \"racecar\" and 12321. Given a positive number n, check if n or the binary representation of n is palindromic. Return the following:\n",
    "\n",
    "- \"Decimal only.\" if only n is a palindrome.\n",
    "- \"Binary only.\" if only the binary representation of n is a palindrome.\n",
    "- \"Decimal and binary.\" if both are palindromes.\n",
    "- \"Neither!\" if neither are palindromes.\n",
    "\n",
    "Examples\n",
    "\n",
    "palindrome_type(1306031) ➞ \"Decimal only.\"\n",
    "# decimal = 1306031\n",
    "# binary  = \"100111110110110101111\"\n",
    "\n",
    "palindrome_type(427787) ➞ \"Binary only.\"\n",
    "# decimal = 427787\n",
    "# binary  = \"1101000011100001011\"\n",
    "\n",
    "palindrome_type(313) ➞ \"Decimal and binary.\"\n",
    "# decimal = 313\n",
    "# binary  = 100111001\n",
    "\n",
    "palindrome_type(934) ➞ \"Neither!\"\n",
    "# decimal = 934\n",
    "# binary  = \"1110100110\"\n"
   ]
  },
  {
   "cell_type": "code",
   "execution_count": 1,
   "metadata": {},
   "outputs": [
    {
     "name": "stdout",
     "output_type": "stream",
     "text": [
      "Enter a number: 313\n",
      "Decimal and binary\n"
     ]
    }
   ],
   "source": [
    "n=int(input(\"Enter a number: \"))\n",
    "def to_binary(n):\n",
    "    bin=0\n",
    "    j=0\n",
    "    while(n):\n",
    "        r=n%2\n",
    "        bin = bin + r*(10**j)\n",
    "        j+=1\n",
    "        n=n//2\n",
    "    return bin\n",
    "\n",
    "def palindrome_type(n):\n",
    "    b=to_binary(n)\n",
    "    l1=str(n)\n",
    "    lr1=l1[::-1]\n",
    "    if l1==lr1:\n",
    "        palindrome_n=1\n",
    "    else:\n",
    "        palindrome_n=0\n",
    "        \n",
    "    l2=str(b)\n",
    "    lr2=l2[::-1]\n",
    "    if l2==lr2:\n",
    "        palindrome_bin=1\n",
    "    else:\n",
    "        palindrome_bin=0\n",
    "    \n",
    "    if palindrome_n == 1 and palindrome_bin==0:\n",
    "        print(\"Decimal only\")\n",
    "    elif palindrome_bin==1 and palindrome_n == 0:\n",
    "        print(\"Binary only\")\n",
    "    elif palindrome_n == 1 and palindrome_bin==1:\n",
    "        print(\"Decimal and binary\")\n",
    "    else:\n",
    "        print(\"Neither!\")\n",
    "palindrome_type(n)"
   ]
  }
 ],
 "metadata": {
  "kernelspec": {
   "display_name": "Python 3",
   "language": "python",
   "name": "python3"
  },
  "language_info": {
   "codemirror_mode": {
    "name": "ipython",
    "version": 3
   },
   "file_extension": ".py",
   "mimetype": "text/x-python",
   "name": "python",
   "nbconvert_exporter": "python",
   "pygments_lexer": "ipython3",
   "version": "3.8.3"
  },
  "toc": {
   "base_numbering": 1,
   "nav_menu": {},
   "number_sections": true,
   "sideBar": true,
   "skip_h1_title": false,
   "title_cell": "Table of Contents",
   "title_sidebar": "Contents",
   "toc_cell": false,
   "toc_position": {},
   "toc_section_display": true,
   "toc_window_display": false
  }
 },
 "nbformat": 4,
 "nbformat_minor": 4
}
