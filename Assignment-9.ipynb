{
 "cells": [
  {
   "cell_type": "markdown",
   "metadata": {},
   "source": [
    "# Q1"
   ]
  },
  {
   "cell_type": "code",
   "execution_count": null,
   "metadata": {},
   "outputs": [],
   "source": [
    "YouTube offers different playback speed options for users. This allows users to increase or decrease the speed of the video content. Given the actual duration and playback speed of the video, calculate the playback duration of the video.\n",
    "\n",
    "Examples\n",
    "\n",
    "playback_duration(\"00:30:00\", 2) ➞ \"00:15:00\"\n",
    "\n",
    "playback_duration(\"01:20:00\", 1.5) ➞ \"00:53:20\"\n",
    "\n",
    "playback_duration(\"51:20:09\", 0.5) ➞ \"102:40:18\"\n"
   ]
  },
  {
   "cell_type": "code",
   "execution_count": 20,
   "metadata": {},
   "outputs": [
    {
     "name": "stdout",
     "output_type": "stream",
     "text": [
      "Enter speed: 1.5\n",
      "3200\n",
      "0:53:20\n"
     ]
    }
   ],
   "source": [
    "n=\"01:20:00\"\n",
    "s=float(input(\"Enter speed: \"))\n",
    "def playback_duration(n,s):\n",
    "    l=n.split(':')\n",
    "    seconds=int(l[0])*3600 + int(l[1])*60 + int(l[2])\n",
    "    watch_sec=int(seconds/s)\n",
    "    min, sec = divmod(watch_sec, 60)\n",
    "    hour, min = divmod(min, 60)\n",
    "    print(\"{}:{}:{}\".format(int(hour),int(min),int(sec)))\n",
    "playback_duration(n,s)"
   ]
  },
  {
   "cell_type": "markdown",
   "metadata": {},
   "source": [
    "# Q2"
   ]
  },
  {
   "cell_type": "code",
   "execution_count": null,
   "metadata": {},
   "outputs": [],
   "source": [
    "We needs your help to construct a building which will be a pile of n cubes. The cube at the bottom will have a volume of n^3, the cube above will have volume of (n-1)^3 and so on until the top which will have a volume of 1^3.\n",
    "\n",
    "Given the total volume m of the building, can you find the number of cubes n required for the building?\n",
    "\n",
    "In other words, you have to return an integer n such that:\n",
    "\n",
    "n^3 + (n-1)^3 + ... + 1^3 == m\n",
    "\n",
    "Return None if there is no such number.\n",
    "Examples\n",
    "\n",
    "pile_of_cubes(1071225) ➞ 45\n",
    "\n",
    "pile_of_cubes(4183059834009) ➞ 2022\n",
    "\n",
    "pile_of_cubes(16) ➞ None\n",
    "\n"
   ]
  },
  {
   "cell_type": "code",
   "execution_count": 9,
   "metadata": {},
   "outputs": [
    {
     "name": "stdout",
     "output_type": "stream",
     "text": [
      "Enter volume: 4183059834009\n",
      "2022\n"
     ]
    }
   ],
   "source": [
    "n=int(input(\"Enter volume: \"))\n",
    "def pile_of_cubes(n):\n",
    "    # (n(n+1)/2)**2 is sum of cubes of n\n",
    "    # k=n(n+1)\n",
    "    flag=0\n",
    "    import math\n",
    "    if (math.ceil(math.sqrt(n)) != math.floor(math.sqrt(n))):\n",
    "        print(\"None\")\n",
    "    else:\n",
    "        k=2*(math.sqrt(n))\n",
    "        for i in range(1, (int(math.sqrt(k)))+1):\n",
    "            if i*(i+1)==k:\n",
    "                flag=1\n",
    "                print(i)\n",
    "                break\n",
    "    if flag==0:\n",
    "        print(\"None\")\n",
    "pile_of_cubes(n)"
   ]
  },
  {
   "cell_type": "markdown",
   "metadata": {},
   "source": [
    "# Q3"
   ]
  },
  {
   "cell_type": "code",
   "execution_count": null,
   "metadata": {},
   "outputs": [],
   "source": [
    "A fulcrum of a list is an integer such that all elements to the left of it and all elements to the right of it sum to the same value. Write a function that finds the fulcrum of a list.\n",
    "\n",
    "To illustrate:\n",
    "\n",
    "find_fulcrum([3, 1, 5, 2, 4, 6, -1]) ➞ 2\n",
    "// Since [3, 1, 5] and [4, 6, -1] both sum to 9\n",
    "\n",
    "Examples\n",
    "\n",
    "find_fulcrum([1, 2, 4, 9, 10, -10, -9, 3]) ➞ 4\n",
    "\n",
    "find_fulcrum([9, 1, 9]) ➞ 1\n",
    "\n",
    "find_fulcrum([7, -1, 0, -1, 1, 1, 2, 3]) ➞ 0\n",
    "\n",
    "find_fulcrum([8, 8, 8, 8]) ➞ -1\n"
   ]
  },
  {
   "cell_type": "code",
   "execution_count": 11,
   "metadata": {},
   "outputs": [
    {
     "name": "stdout",
     "output_type": "stream",
     "text": [
      "0\n"
     ]
    }
   ],
   "source": [
    "l=[7, -1, 0, -1, 1, 1, 2, 3]\n",
    "def fulcrum(l):\n",
    "    from functools import reduce\n",
    "    flag=0\n",
    "    for i in range(1,len(l)-1):\n",
    "        left =reduce(lambda x,y: x+y, l[0:i])\n",
    "        right=reduce(lambda x,y: x+y, l[i+1::])\n",
    "        if left==right:\n",
    "            flag=1\n",
    "            print(l[i])\n",
    "            break\n",
    "    if flag==0:\n",
    "        print(-1)\n",
    "fulcrum(l)"
   ]
  },
  {
   "cell_type": "markdown",
   "metadata": {},
   "source": [
    "# Q4"
   ]
  },
  {
   "cell_type": "code",
   "execution_count": null,
   "metadata": {},
   "outputs": [],
   "source": [
    "Given a list of integers representing the color of each sock, determine how many pairs of socks with matching colors there are. For example, there are 7 socks with colors [1, 2, 1, 2, 1, 3, 2]. There is one pair of color 1 and one of color 2. There are three odd socks left, one of each color. The number of pairs is 2.\n",
    "\n",
    "Create a function that returns an integer representing the number of matching pairs of socks that are available.\n",
    "Examples\n",
    "\n",
    "sock_merchant([10, 20, 20, 10, 10, 30, 50, 10, 20]) ➞ 3\n",
    "\n",
    "sock_merchant([50, 20, 30, 90, 30, 20, 50, 20, 90]) ➞ 4\n",
    "\n",
    "sock_merchant([]) ➞ 0\n"
   ]
  },
  {
   "cell_type": "code",
   "execution_count": 13,
   "metadata": {},
   "outputs": [
    {
     "name": "stdout",
     "output_type": "stream",
     "text": [
      "4\n"
     ]
    }
   ],
   "source": [
    "l=[50, 20, 30, 90, 30, 20, 50, 20, 90]\n",
    "\n",
    "def socks_pairs(l):\n",
    "    s=set(l)\n",
    "    d={}\n",
    "    for i in s:\n",
    "        k=l.count(i)\n",
    "        d[i]=k\n",
    "    pairs=0\n",
    "    for j in d:\n",
    "        pairs+= d[j]//2\n",
    "    print(pairs)\n",
    "socks_pairs(l)"
   ]
  },
  {
   "cell_type": "markdown",
   "metadata": {},
   "source": [
    "# Q5"
   ]
  },
  {
   "cell_type": "code",
   "execution_count": null,
   "metadata": {},
   "outputs": [],
   "source": [
    "Create a function that takes a string containing integers as well as other characters and return the sum of the negative integers only.\n",
    "\n",
    "Examples\n",
    "\n",
    "negative_sum(\"-12 13%14&-11\") ➞ -23\n",
    "# -12 + -11 = -23\n",
    "\n",
    "negative_sum(\"22 13%14&-11-22 13 12\") ➞ -33\n",
    "# -11 + -22 = -33\n"
   ]
  },
  {
   "cell_type": "code",
   "execution_count": 30,
   "metadata": {},
   "outputs": [
    {
     "name": "stdout",
     "output_type": "stream",
     "text": [
      "Enter a string of integers and other characters: 22 13%14&-11-22 13 12\n",
      "-33\n"
     ]
    }
   ],
   "source": [
    "n = input(\"Enter a string of integers and other characters: \")\n",
    "def negative_sum(n):\n",
    "    sum_digits=0\n",
    "    l=[]\n",
    "    i=0\n",
    "    while i!=len(n):\n",
    "        if n[i]=='-':\n",
    "            i+=1\n",
    "            while i!=len(n):\n",
    "                if n[i]==' ' or n[i]=='-':\n",
    "                    break\n",
    "                else:\n",
    "                    l.append(n[i])\n",
    "                    i+=1\n",
    "            digit=int(''.join(l))\n",
    "            sum_digits+=digit\n",
    "            l=[]\n",
    "        else:\n",
    "            i+=1\n",
    "    sum_digits=sum_digits*(-1)\n",
    "    print(sum_digits)\n",
    "negative_sum(n)\n",
    "        "
   ]
  }
 ],
 "metadata": {
  "kernelspec": {
   "display_name": "Python 3",
   "language": "python",
   "name": "python3"
  },
  "language_info": {
   "codemirror_mode": {
    "name": "ipython",
    "version": 3
   },
   "file_extension": ".py",
   "mimetype": "text/x-python",
   "name": "python",
   "nbconvert_exporter": "python",
   "pygments_lexer": "ipython3",
   "version": "3.8.3"
  },
  "toc": {
   "base_numbering": 1,
   "nav_menu": {},
   "number_sections": true,
   "sideBar": true,
   "skip_h1_title": false,
   "title_cell": "Table of Contents",
   "title_sidebar": "Contents",
   "toc_cell": false,
   "toc_position": {},
   "toc_section_display": true,
   "toc_window_display": false
  }
 },
 "nbformat": 4,
 "nbformat_minor": 4
}
